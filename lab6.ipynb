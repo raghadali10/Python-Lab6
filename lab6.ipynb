{
 "cells": [
  {
   "cell_type": "code",
   "execution_count": 2,
   "id": "7a9fb648",
   "metadata": {},
   "outputs": [
    {
     "name": "stdout",
     "output_type": "stream",
     "text": [
      "Enter your number 5555555555\n",
      "Rawan\n"
     ]
    }
   ],
   "source": [
    "def findName(n):\n",
    "    phoneBook={'Amal':'1111111111', \n",
    "             'Mohammed':'2222222222',\n",
    "             'Khadijah':'3333333333',\n",
    "             'Abdullah':'4444444444',\n",
    "             'Rawan':'5555555555',\n",
    "             'Faisal':'6666666666',\n",
    "             'Layla':'7777777777'\n",
    "             }\n",
    "    for value in phoneBook:\n",
    "        if phoneBook[value]==n:\n",
    "            return value\n",
    "           \n",
    "    return \"Sorry, the number is not found\"\n",
    "    \n",
    "number=input(\"Enter your number \")\n",
    "x=''\n",
    "if len(number)!=10 or number.isdigit()!=True:\n",
    "         print('This is invalid number')\n",
    "else:\n",
    "         x=findName(number)\n",
    "         print(x)"
   ]
  },
  {
   "cell_type": "code",
   "execution_count": null,
   "id": "53c90d40",
   "metadata": {},
   "outputs": [],
   "source": []
  }
 ],
 "metadata": {
  "kernelspec": {
   "display_name": "Python 3 (ipykernel)",
   "language": "python",
   "name": "python3"
  },
  "language_info": {
   "codemirror_mode": {
    "name": "ipython",
    "version": 3
   },
   "file_extension": ".py",
   "mimetype": "text/x-python",
   "name": "python",
   "nbconvert_exporter": "python",
   "pygments_lexer": "ipython3",
   "version": "3.11.3"
  }
 },
 "nbformat": 4,
 "nbformat_minor": 5
}
