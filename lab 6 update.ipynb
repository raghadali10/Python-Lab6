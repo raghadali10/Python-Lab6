{
 "cells": [
  {
   "cell_type": "code",
   "execution_count": 12,
   "id": "e64ca6b9",
   "metadata": {},
   "outputs": [
    {
     "name": "stdout",
     "output_type": "stream",
     "text": [
      "Enter your number 3333333333\n",
      "Khadijah\n"
     ]
    }
   ],
   "source": [
    "def findName(n):\n",
    "    phoneBook={\n",
    "    \"owner1\" : {\n",
    "    \"Name\" : \"Amal\",\n",
    "    \"Number\" : '1111111111'\n",
    "  },\n",
    "  \"owner2\" : {\n",
    "    \"Name\" : \"Mohammed\",\n",
    "    \"Number\" : '2222222222'\n",
    "  },\n",
    "  \"owner3\" : {\n",
    "    \"Name\" : \"Khadijah\",\n",
    "    \"Number\" : '3333333333'\n",
    "  },\n",
    "   \"owner4\" : {\n",
    "    \"Name\" : \"Abdullah\",\n",
    "    \"Number\" : '4444444444'\n",
    "  },\n",
    "  \"owner5\" : {\n",
    "    \"Name\" : \"Rawan\",\n",
    "    \"Number\" : '5555555555'\n",
    "  },\n",
    "  \"owner6\" : {\n",
    "    \"Name\" : \"Faisal\",\n",
    "    \"Number\" : '6666666666'\n",
    "  },\n",
    "  \"owner7\" : {\n",
    "    \"Name\" : \"Layla\",\n",
    "    \"Number\" : '7777777777'\n",
    "  }\n",
    "}\n",
    "    lisNumber=[]\n",
    "    lisName=[]\n",
    "    num=0\n",
    "    for key, value in phoneBook.items():\n",
    "            lisNumber.append(value[\"Number\"])\n",
    "            lisName.append(value[\"Name\"])\n",
    "    if n in lisNumber:\n",
    "        num=lisNumber.index(n)\n",
    "        return lisName[num]\n",
    "    else:\n",
    "        return \"Sorry, the number is not found\"\n",
    "\n",
    "number=input(\"Enter your number \")\n",
    "x=''\n",
    "if len(number)!=10 or number.isdigit()!=True:\n",
    "         print('This is invalid numberr')\n",
    "else:\n",
    "         x=findName(number)\n",
    "         print(x)"
   ]
  },
  {
   "cell_type": "code",
   "execution_count": null,
   "id": "bcf30480",
   "metadata": {},
   "outputs": [],
   "source": []
  }
 ],
 "metadata": {
  "kernelspec": {
   "display_name": "Python 3 (ipykernel)",
   "language": "python",
   "name": "python3"
  },
  "language_info": {
   "codemirror_mode": {
    "name": "ipython",
    "version": 3
   },
   "file_extension": ".py",
   "mimetype": "text/x-python",
   "name": "python",
   "nbconvert_exporter": "python",
   "pygments_lexer": "ipython3",
   "version": "3.11.3"
  }
 },
 "nbformat": 4,
 "nbformat_minor": 5
}
